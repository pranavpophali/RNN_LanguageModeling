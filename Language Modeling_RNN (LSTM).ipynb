{
 "cells": [
  {
   "cell_type": "markdown",
   "metadata": {
    "id": "9g4QG3VCns66"
   },
   "source": [
    "## LSTM Language Modeling"
   ]
  },
  {
   "cell_type": "code",
   "execution_count": null,
   "metadata": {},
   "outputs": [],
   "source": [
    "import torch\n",
    "from torchtext import data\n",
    "import random\n",
    "import matplotlib.pyplot as plt\n",
    "\n",
    "import torch\n",
    "import torch.nn as nn\n",
    "import torch.nn.functional as F\n",
    "import torch.optim as optim\n",
    "from torch.autograd import Variable as V\n",
    "\n",
    "import torch\n",
    "import torch.nn as nn\n",
    "import torch.nn.functional as F\n",
    "import torch.optim as optim\n",
    "from torch.autograd import Variable as V\n",
    "import numpy as np\n",
    "\n",
    "SEED = 1234\n",
    "\n",
    "torch.manual_seed(SEED)\n",
    "torch.cuda.manual_seed(SEED)\n",
    "torch.backends.cudnn.deterministic = True\n",
    "from torchtext import datasets\n",
    "\n",
    "TEXT = data.Field(tokenize='spacy')\n",
    "LABEL = data.LabelField(dtype=torch.float)"
   ]
  },
  {
   "cell_type": "code",
   "execution_count": null,
   "metadata": {
    "id": "GhR3z_Hlns6_"
   },
   "outputs": [],
   "source": [
    "TEXT = data.Field(tokenize='spacy')\n",
    "LABEL = data.LabelField(dtype=torch.float)"
   ]
  },
  {
   "cell_type": "code",
   "execution_count": null,
   "metadata": {
    "colab": {
     "base_uri": "https://localhost:8080/",
     "height": 51
    },
    "id": "E6CpNl9pns7D",
    "outputId": "5333d2cc-b940-4c03-bf7f-d96cdea77fba"
   },
   "outputs": [
    {
     "name": "stderr",
     "output_type": "stream",
     "text": [
      "\r",
      "aclImdb_v1.tar.gz:   0%|          | 0.00/84.1M [00:00<?, ?B/s]"
     ]
    },
    {
     "name": "stdout",
     "output_type": "stream",
     "text": [
      "downloading aclImdb_v1.tar.gz\n"
     ]
    },
    {
     "name": "stderr",
     "output_type": "stream",
     "text": [
      "aclImdb_v1.tar.gz: 100%|██████████| 84.1M/84.1M [00:03<00:00, 22.7MB/s]\n"
     ]
    }
   ],
   "source": [
    "training_set, testing_set = datasets.IMDB.splits(TEXT, LABEL)"
   ]
  },
  {
   "cell_type": "code",
   "execution_count": null,
   "metadata": {
    "id": "rmSOeKaBns7G"
   },
   "outputs": [],
   "source": [
    "SEED = 1234\n",
    "train_data, valid_data = training_set.split(random_state=random.seed(SEED))"
   ]
  },
  {
   "cell_type": "code",
   "execution_count": null,
   "metadata": {
    "id": "ZlVjy9Ehns7I"
   },
   "outputs": [],
   "source": [
    "reviews = [vars(train_data.examples[i])['text'] for i in range(len(train_data.examples))]"
   ]
  },
  {
   "cell_type": "code",
   "execution_count": null,
   "metadata": {
    "id": "-cZunY3Yns7L"
   },
   "outputs": [],
   "source": [
    "    list_of_words=[]\n",
    "\n",
    "    def Ngrams(word_list, N):\n",
    "        keys = set(zip(*[word_list[i:] for i in range(N)]))\n",
    "        for a_key in keys:\n",
    "            list_of_words.append(a_key)\n",
    "        return list_of_words\n",
    "\n",
    "    for ar in reviews:\n",
    "        klist = Ngrams(ar, 4)\n",
    "\n",
    "    lm = dict()\n",
    "    for word in list_of_words:\n",
    "        theseq = word[:-1]\n",
    "        if theseq in lm:\n",
    "            lm[theseq].append(word[-1])\n",
    "        else:\n",
    "            lm[theseq] = [word[-1]]\n",
    "\n",
    "    import random\n",
    "    def nextWord(thekey):\n",
    "        next_possible = lm.get((thekey))\n",
    "        return random.sample(next_possible,1)[0]\n",
    "\n",
    "    def generateFurther(count, init):\n",
    "        if not count:\n",
    "            return init[0] + ' ' + init[1]\n",
    "        next_word = nextWord(init)\n",
    "        return init[0] + ' ' + generateFurther(count - 1, ((init[1], init[2],next_word)))\n"
   ]
  },
  {
   "cell_type": "code",
   "execution_count": null,
   "metadata": {
    "colab": {
     "base_uri": "https://localhost:8080/",
     "height": 35
    },
    "id": "F4HGcQvHns7U",
    "outputId": "d5dc51df-5806-491e-cd61-162cd7c9fe9c"
   },
   "outputs": [
    {
     "data": {
      "application/vnd.google.colaboratory.intrinsic+json": {
       "type": "string"
      },
      "text/plain": [
       "\"my favourite movie ever , but they said it deserved better.<br /><br />The acting itself was n't too juicy to begin with\""
      ]
     },
     "execution_count": 10,
     "metadata": {
      "tags": []
     },
     "output_type": "execute_result"
    }
   ],
   "source": [
    "generateFurther(20, ('my', 'favourite','movie'))"
   ]
  },
  {
   "cell_type": "code",
   "execution_count": null,
   "metadata": {
    "colab": {
     "base_uri": "https://localhost:8080/",
     "height": 35
    },
    "id": "psPL0o5ons7X",
    "outputId": "56ac8ee9-98d8-448d-adfb-38b09d9acb4c"
   },
   "outputs": [
    {
     "data": {
      "application/vnd.google.colaboratory.intrinsic+json": {
       "type": "string"
      },
      "text/plain": [
       "\"my favourite movie wen i was 5 and it still holds up well today . It 's true that sequels are usually\""
      ]
     },
     "execution_count": 11,
     "metadata": {
      "tags": []
     },
     "output_type": "execute_result"
    }
   ],
   "source": [
    "generateFurther(20, ('my', 'favourite','movie'))"
   ]
  },
  {
   "cell_type": "code",
   "execution_count": null,
   "metadata": {
    "colab": {
     "base_uri": "https://localhost:8080/",
     "height": 35
    },
    "id": "uP_Z7Cqgns7Z",
    "outputId": "d6fc8f8b-e60a-4fc6-dee2-f41f783d3382"
   },
   "outputs": [
    {
     "data": {
      "application/vnd.google.colaboratory.intrinsic+json": {
       "type": "string"
      },
      "text/plain": [
       "'my favourite movie wen i was 5 and my family always watched this show a surreal and unique appearance . But also'"
      ]
     },
     "execution_count": 12,
     "metadata": {
      "tags": []
     },
     "output_type": "execute_result"
    }
   ],
   "source": [
    "generateFurther(20, ('my', 'favourite','movie'))"
   ]
  },
  {
   "cell_type": "code",
   "execution_count": null,
   "metadata": {
    "colab": {
     "base_uri": "https://localhost:8080/",
     "height": 35
    },
    "id": "mOJOQyh7ns7c",
    "outputId": "755e87a0-e47e-4a0a-97d5-d0aefe334bc1"
   },
   "outputs": [
    {
     "data": {
      "application/vnd.google.colaboratory.intrinsic+json": {
       "type": "string"
      },
      "text/plain": [
       "'my favourite movie wen i was 5 and my family always watched this game . It has tons of super - surreal'"
      ]
     },
     "execution_count": 13,
     "metadata": {
      "tags": []
     },
     "output_type": "execute_result"
    }
   ],
   "source": [
    "generateFurther(20, ('my', 'favourite','movie'))"
   ]
  },
  {
   "cell_type": "code",
   "execution_count": null,
   "metadata": {
    "id": "OYPEFTDhns7f"
   },
   "outputs": [],
   "source": [
    "TEXT = data.Field(tokenize='spacy',eos_token='.')\n",
    "LABEL = data.LabelField(dtype=torch.float)\n",
    "\n",
    "train_data, test_data = datasets.IMDB.splits(TEXT,LABEL)"
   ]
  },
  {
   "cell_type": "code",
   "execution_count": null,
   "metadata": {
    "colab": {
     "base_uri": "https://localhost:8080/",
     "height": 51
    },
    "id": "dzpG2BSdns7h",
    "outputId": "d2ec93e3-ddb0-4323-a305-cf42a7fae604"
   },
   "outputs": [
    {
     "name": "stdout",
     "output_type": "stream",
     "text": [
      "Number of training   examples: 25000\n",
      "Number of testing    examples: 25000\n"
     ]
    }
   ],
   "source": [
    "print(f'Number of training   examples: {len(train_data)}')\n",
    "print(f'Number of testing    examples: {len(test_data)}')"
   ]
  },
  {
   "cell_type": "code",
   "execution_count": null,
   "metadata": {
    "colab": {
     "base_uri": "https://localhost:8080/",
     "height": 51
    },
    "id": "YAzGc1jLns7j",
    "outputId": "d0a83cb4-429d-47ac-8907-745c33a772a1"
   },
   "outputs": [
    {
     "name": "stderr",
     "output_type": "stream",
     "text": [
      ".vector_cache/glove.6B.zip: 862MB [06:28, 2.22MB/s]                           \n",
      "100%|█████████▉| 399568/400000 [00:18<00:00, 21452.94it/s]"
     ]
    }
   ],
   "source": [
    "device = torch.device('cuda' if torch.cuda.is_available() else 'cpu')\n",
    "\n",
    "train_iterator, test_iterator = data.BucketIterator.splits(\n",
    "(train_data, test_data),\n",
    "batch_size = 8,\n",
    "device = device\n",
    ")\n",
    "\n",
    "\n",
    "TEXT.build_vocab(train_data, max_size=5000,vectors=\"glove.6B.100d\",min_freq = 10)\n",
    "LABEL.build_vocab(train_data)"
   ]
  },
  {
   "cell_type": "code",
   "execution_count": null,
   "metadata": {
    "id": "79n0jslrns7m"
   },
   "outputs": [],
   "source": [
    "#Building the model\n",
    "import torch.nn as nn\n",
    "\n",
    "class RNN(nn.Module):\n",
    "    def __init__(self, vocab_size, embedding_dim, hidden_dim, \n",
    "                 output_dim, n_layers, bidirectional, dropout):\n",
    "        super().__init__()\n",
    "        \n",
    "        self.embedding = nn.Embedding(vocab_size, embedding_dim)\n",
    "        self.rnn = nn.LSTM(embedding_dim, hidden_dim, num_layers=n_layers, \n",
    "                           bidirectional=bidirectional, dropout=dropout)\n",
    "        self.fc = nn.Linear(hidden_dim, output_dim)\n",
    "        self.dropout = nn.Dropout(dropout)\n",
    "        \n",
    "    def forward(self, text):\n",
    "        \n",
    "        \n",
    "        \n",
    "        emb = self.dropout(self.embedding(text))\n",
    "        output, hidden = self.rnn(emb)\n",
    "        output = self.dropout(output)\n",
    "        decoded = self.fc(output.view(output.size(0)*output.size(1), output.size(2)))\n",
    "        return decoded.view(output.size(0), output.size(1), decoded.size(1))"
   ]
  },
  {
   "cell_type": "code",
   "execution_count": null,
   "metadata": {
    "id": "n2DzJFx7ns7o"
   },
   "outputs": [],
   "source": [
    "#Model parameters\n",
    "INPUT_DIM = len(TEXT.vocab)\n",
    "EMBEDDING_DIM = 100\n",
    "HIDDEN_DIM = 80\n",
    "OUTPUT_DIM = INPUT_DIM\n",
    "N_LAYERS = 2\n",
    "BIDIRECTIONAL = False\n",
    "DROPOUT = 0.5\n",
    "\n",
    "model = RNN(INPUT_DIM, EMBEDDING_DIM, HIDDEN_DIM, OUTPUT_DIM, N_LAYERS, BIDIRECTIONAL, DROPOUT)\n",
    "\n",
    "criterion = nn.CrossEntropyLoss()\n",
    "criterion = criterion.to(device)\n",
    "model.embedding.weight.requires_grad = False\n",
    "optimizer = optim.Adam(model.parameters(), lr=1e-3, betas=(0.7, 0.99))"
   ]
  },
  {
   "cell_type": "code",
   "execution_count": null,
   "metadata": {
    "colab": {
     "base_uri": "https://localhost:8080/",
     "height": 153
    },
    "id": "o091g1O8ns7r",
    "outputId": "f841a32a-c46f-4f0d-e050-a8692437b915"
   },
   "outputs": [
    {
     "name": "stdout",
     "output_type": "stream",
     "text": [
      "torch.Size([5003, 100])\n"
     ]
    },
    {
     "data": {
      "text/plain": [
       "tensor([[ 0.0000,  0.0000,  0.0000,  ...,  0.0000,  0.0000,  0.0000],\n",
       "        [ 0.0000,  0.0000,  0.0000,  ...,  0.0000,  0.0000,  0.0000],\n",
       "        [-0.3398,  0.2094,  0.4635,  ..., -0.2339,  0.4730, -0.0288],\n",
       "        ...,\n",
       "        [ 0.5781, -0.1730,  0.6635,  ..., -0.1843,  0.0376,  0.4232],\n",
       "        [ 0.3135,  0.3104,  0.3291,  ..., -0.3923, -0.6504,  0.4120],\n",
       "        [-0.3336,  0.1483,  0.1550,  ..., -0.3782,  0.6802, -0.1566]])"
      ]
     },
     "execution_count": 19,
     "metadata": {
      "tags": []
     },
     "output_type": "execute_result"
    }
   ],
   "source": [
    "\n",
    "pretrained_embeddings = TEXT.vocab.vectors\n",
    "\n",
    "print(pretrained_embeddings.shape)\n",
    "\n",
    "model.embedding.weight.data.copy_(pretrained_embeddings)"
   ]
  },
  {
   "cell_type": "code",
   "execution_count": null,
   "metadata": {
    "id": "nIQkLh66ns7t"
   },
   "outputs": [],
   "source": [
    "\n",
    "from tqdm import tqdm\n",
    "\n",
    "def train(model, iterator, optimizer, criterion):\n",
    "    \n",
    "    epoch_loss = 0\n",
    "    model.train()\n",
    "    model = model.to(device)\n",
    "    for batch in iterator:\n",
    "        \n",
    "        optimizer.zero_grad()\n",
    "        predictions = model(batch.text[:-1])\n",
    "        loss = criterion(predictions.view(-1,INPUT_DIM), batch.text[1:].view(-1))\n",
    "        loss.backward(retain_graph=True)\n",
    "        \n",
    "        optimizer.step()\n",
    "        epoch_loss += loss.item()\n",
    "        \n",
    "    return epoch_loss / len(iterator)"
   ]
  },
  {
   "cell_type": "code",
   "execution_count": null,
   "metadata": {
    "id": "6b0gL1xlns7w"
   },
   "outputs": [],
   "source": [
    "def evaluate(model, iterator, criterion):\n",
    "    \n",
    "    epoch_loss = 0\n",
    "    \n",
    "    model.eval()\n",
    "    model = model.to(device)\n",
    "    \n",
    "    with torch.no_grad():\n",
    "    \n",
    "        for batch in iterator:\n",
    "\n",
    "            predictions = model(batch.text[:-1])\n",
    "            loss = criterion(predictions.view(-1,INPUT_DIM), batch.text[1:].view(-1))\n",
    "            epoch_loss += loss.item()\n",
    "            \n",
    "    return epoch_loss / len(iterator)"
   ]
  },
  {
   "cell_type": "code",
   "execution_count": null,
   "metadata": {
    "colab": {
     "base_uri": "https://localhost:8080/",
     "height": 102
    },
    "id": "A8PQystGns7y",
    "outputId": "d53d7640-2708-4cbd-c9f8-b6c2edd22f88",
    "scrolled": true
   },
   "outputs": [
    {
     "name": "stdout",
     "output_type": "stream",
     "text": [
      "epoch:  0 train_loss:  2.7104149657440186 validation_loss:  5.0806547542572025\n",
      "epoch:  1 train_loss:  2.4860390310668947 validation_loss:  4.926961108932495\n",
      "epoch:  2 train_loss:  2.4453920764541626 validation_loss:  4.862266946640014\n",
      "epoch:  3 train_loss:  2.4330751929473875 validation_loss:  4.8220201638031\n",
      "epoch:  4 train_loss:  2.424115651435852 validation_loss:  4.7959206454467775\n"
     ]
    }
   ],
   "source": [
    "N_EPOCHS = 5\n",
    "loss_history_1 = np.arange(0,N_EPOCHS,dtype=float)\n",
    "for epoch in range(N_EPOCHS):\n",
    "\n",
    "    train_loss = train(model, train_iterator, optimizer, criterion)\n",
    "    loss_history_1[epoch] = train_loss\n",
    "    valid_loss = evaluate(model, test_iterator, criterion)\n",
    "    print('epoch: ',epoch, 'train_loss: ',train_loss,'validation_loss: ', valid_loss)"
   ]
  },
  {
   "cell_type": "markdown",
   "metadata": {
    "id": "EPvpIdq5ns71"
   },
   "source": [
    "##### Plotting the graph for training loss and number of iterations "
   ]
  },
  {
   "cell_type": "code",
   "execution_count": null,
   "metadata": {
    "colab": {
     "base_uri": "https://localhost:8080/",
     "height": 296
    },
    "id": "-DqTQZSIns71",
    "outputId": "255eaa8d-1ef1-42c9-d182-8df79430c21f",
    "scrolled": true
   },
   "outputs": [
    {
     "data": {
      "text/plain": [
       "Text(0, 0.5, 'Loss')"
      ]
     },
     "execution_count": 23,
     "metadata": {
      "tags": []
     },
     "output_type": "execute_result"
    },
    {
     "data": {
      "image/png": "[encoded data removed]",
      "text/plain": [
       "<Figure size 432x288 with 1 Axes>"
      ]
     },
     "metadata": {
      "needs_background": "light",
      "tags": []
     },
     "output_type": "display_data"
    }
   ],
   "source": [
    "plt.plot(np.arange(0,5),loss_history_1)\n",
    "plt.xlabel('No of iterations')\n",
    "plt.ylabel('Loss')"
   ]
  },
  {
   "cell_type": "code",
   "execution_count": null,
   "metadata": {
    "id": "CXEoETlyns75"
   },
   "outputs": [],
   "source": [
    "import spacy\n",
    "import numpy as np\n",
    "nlp = spacy.load('en')\n",
    "model = model.to(device)\n",
    "\n",
    "def predict_vocab(sentence):\n",
    "    tokenized = [tok.text for tok in nlp.tokenizer(sentence)]\n",
    "    indexed = [TEXT.vocab.stoi[t] for t in tokenized]\n",
    "    tensor = torch.LongTensor(indexed).to(device)\n",
    "    tensor = tensor.unsqueeze(1)\n",
    "    model.eval()\n",
    "    model.bsz = 1\n",
    "    prediction = model(tensor)\n",
    "    return prediction,tensor"
   ]
  },
  {
   "cell_type": "code",
   "execution_count": null,
   "metadata": {
    "id": "PrLUpBdJns77"
   },
   "outputs": [],
   "source": [
    "prediction,input_data = predict_vocab(\"my favorite movie\")\n",
    "x,preds = torch.max(prediction, 2)\n",
    "output = [TEXT.vocab.itos[i] for i in preds]\n",
    "total_data = torch.cat((input_data,preds),dim=0)"
   ]
  },
  {
   "cell_type": "code",
   "execution_count": null,
   "metadata": {
    "colab": {
     "base_uri": "https://localhost:8080/",
     "height": 35
    },
    "id": "QQcdxRa2ns7-",
    "outputId": "fbacc100-02a1-4b9d-dcaf-c2a53c5f2112"
   },
   "outputs": [
    {
     "data": {
      "application/vnd.google.colaboratory.intrinsic+json": {
       "type": "string"
      },
      "text/plain": [
       "'my favorite movie <unk> <unk> . br /><br <unk> br /><br <unk> <unk> <unk> br /><br <unk> br /><br <unk> <unk> /><br <unk> br /><br <unk> /><br /><br <unk> <unk>'"
      ]
     },
     "execution_count": 26,
     "metadata": {
      "tags": []
     },
     "output_type": "execute_result"
    }
   ],
   "source": [
    "for x in range(14):\n",
    "    total_data = total_data.to('cpu')\n",
    "    total_data_sampled = np.array(total_data[-6:])\n",
    "    next_input = np.random.choice(total_data_sampled.reshape(total_data_sampled.shape[0]),1)\n",
    "    next_input_text = [TEXT.vocab.itos[i] for i in next_input]\n",
    "    next_input_text = ''.join(next_input_text)\n",
    "    prediction,input_data = predict_vocab(next_input_text)\n",
    "    x,preds = torch.max(prediction, 2)\n",
    "    total_data = total_data.to('cuda')\n",
    "    total_data = torch.cat((total_data,preds),dim=0)\n",
    "sampled_output = [TEXT.vocab.itos[i] for i in total_data]\n",
    "' '.join(sampled_output)"
   ]
  },
  {
   "cell_type": "code",
   "execution_count": null,
   "metadata": {
    "colab": {
     "base_uri": "https://localhost:8080/",
     "height": 52
    },
    "id": "myZf-CE6ns8A",
    "outputId": "cd159c85-dcd2-430f-d18e-25b82fdd223d"
   },
   "outputs": [
    {
     "data": {
      "application/vnd.google.colaboratory.intrinsic+json": {
       "type": "string"
      },
      "text/plain": [
       "'My favorite movie <unk> <unk> is <unk> br /><br <unk> /><br br /><br <unk> <unk> br /><br <unk> br /><br br /><br <unk> br /><br br /><br <unk> <unk> br /><br <unk> <unk> <unk> br /><br <unk> br /><br <unk> /><br br /><br br /><br <unk> <unk> <unk> <unk> br /><br <unk>'"
      ]
     },
     "execution_count": 27,
     "metadata": {
      "tags": []
     },
     "output_type": "execute_result"
    }
   ],
   "source": [
    "prediction,input_data = predict_vocab(\"My favorite movie\")\n",
    "x,preds = torch.max(prediction, 2)\n",
    "output = [TEXT.vocab.itos[i] for i in preds]\n",
    "total_data = torch.cat((input_data,preds),dim=0)\n",
    "\n",
    "for x in range(14):\n",
    "    total_data = total_data.to('cpu')\n",
    "    total_data_sampled = np.array(total_data[-6:])\n",
    "    next_input = np.random.choice(total_data_sampled.reshape(total_data_sampled.shape[0]),3)\n",
    "    next_input_text = [TEXT.vocab.itos[i] for i in next_input]\n",
    "    next_input_text = ''.join(next_input_text)\n",
    "    prediction,input_data = predict_vocab(next_input_text)\n",
    "    x,preds = torch.max(prediction, 2)\n",
    "    total_data = total_data.to('cuda')\n",
    "    total_data = torch.cat((total_data,preds),dim=0)\n",
    "sampled_output = [TEXT.vocab.itos[i] for i in total_data]\n",
    "' '.join(sampled_output)"
   ]
  },
  {
   "cell_type": "code",
   "execution_count": null,
   "metadata": {
    "colab": {
     "base_uri": "https://localhost:8080/",
     "height": 52
    },
    "id": "cx20rGvdns8C",
    "outputId": "2a98435e-9b54-4dfd-9e93-b0e41c2c9f05"
   },
   "outputs": [
    {
     "data": {
      "application/vnd.google.colaboratory.intrinsic+json": {
       "type": "string"
      },
      "text/plain": [
       "'my favorite movie <unk> <unk> . br /><br <unk> <pad> br /><br <unk> /><br br /><br <unk> br /><br <unk> /><br br /><br <unk> <unk> <unk> br /><br <unk> /><br br /><br <unk> <unk> br /><br <unk> /><br br /><br <unk> br /><br <unk> <unk> <unk>'"
      ]
     },
     "execution_count": 28,
     "metadata": {
      "tags": []
     },
     "output_type": "execute_result"
    }
   ],
   "source": [
    "prediction,input_data = predict_vocab(\"my favorite movie\")\n",
    "x,preds = torch.max(prediction, 2)\n",
    "output = [TEXT.vocab.itos[i] for i in preds]\n",
    "total_data = torch.cat((input_data,preds),dim=0)\n",
    "\n",
    "for x in range(14):\n",
    "    total_data = total_data.to('cpu')\n",
    "    total_data_sampled = np.array(total_data[-4:])\n",
    "    next_input = np.random.choice(total_data_sampled.reshape(total_data_sampled.shape[0]),3)\n",
    "    next_input_text = [TEXT.vocab.itos[i] for i in next_input]\n",
    "    next_input_text = ''.join(next_input_text)\n",
    "    prediction,input_data = predict_vocab(next_input_text)\n",
    "    x,preds = torch.max(prediction, 2)\n",
    "    total_data = total_data.to('cuda')\n",
    "    total_data = torch.cat((total_data,preds),dim=0)\n",
    "sampled_output = [TEXT.vocab.itos[i] for i in total_data]\n",
    "' '.join(sampled_output)"
   ]
  },
  {
   "cell_type": "code",
   "execution_count": null,
   "metadata": {
    "colab": {
     "base_uri": "https://localhost:8080/",
     "height": 52
    },
    "id": "sQJX6LvMns8E",
    "outputId": "bac48fa3-801c-4563-aa60-c0f0c9aec5a4"
   },
   "outputs": [
    {
     "data": {
      "application/vnd.google.colaboratory.intrinsic+json": {
       "type": "string"
      },
      "text/plain": [
       "'My favorite movie <unk> <unk> is is br /><br <unk> <unk> br /><br <unk> br /><br <unk> <unk> br /><br br /><br <unk> /><br br /><br <unk> br /><br <unk> br /><br <unk> br /><br br /><br <unk> /><br br /><br br /><br <unk> <unk> /><br br /><br <unk>'"
      ]
     },
     "execution_count": 29,
     "metadata": {
      "tags": []
     },
     "output_type": "execute_result"
    }
   ],
   "source": [
    "prediction,input_data = predict_vocab(\"My favorite movie\")\n",
    "x,preds = torch.max(prediction, 2)\n",
    "output = [TEXT.vocab.itos[i] for i in preds]\n",
    "total_data = torch.cat((input_data,preds),dim=0)\n",
    "\n",
    "for x in range(14):\n",
    "    total_data = total_data.to('cpu')\n",
    "    total_data_sampled = np.array(total_data[-4:])\n",
    "    next_input = np.random.choice(total_data_sampled.reshape(total_data_sampled.shape[0]),3)\n",
    "    next_input_text = [TEXT.vocab.itos[i] for i in next_input]\n",
    "    next_input_text = ''.join(next_input_text)\n",
    "    prediction,input_data = predict_vocab(next_input_text)\n",
    "    x,preds = torch.max(prediction, 2)\n",
    "    total_data = total_data.to('cuda')\n",
    "    total_data = torch.cat((total_data,preds),dim=0)\n",
    "sampled_output = [TEXT.vocab.itos[i] for i in total_data]\n",
    "' '.join(sampled_output)"
   ]
  },
  {
   "cell_type": "code",
   "execution_count": null,
   "metadata": {
    "colab": {
     "base_uri": "https://localhost:8080/",
     "height": 35
    },
    "id": "nVuAucUins8I",
    "outputId": "552434b9-8698-4e3a-9d51-de6dc783f028"
   },
   "outputs": [
    {
     "data": {
      "application/vnd.google.colaboratory.intrinsic+json": {
       "type": "string"
      },
      "text/plain": [
       "'My favorite movie <unk> <unk> is is br /><br <unk> a br /><br <unk> <unk> br /><br br /><br <unk> <unk> <unk> br /><br <unk> <unk> br /><br <unk> br /><br <unk> <unk> br /><br <unk> <unk> <unk> br /><br <unk> br /><br <unk>'"
      ]
     },
     "execution_count": 30,
     "metadata": {
      "tags": []
     },
     "output_type": "execute_result"
    }
   ],
   "source": [
    "prediction,input_data = predict_vocab(\"My favorite movie\")\n",
    "x,preds = torch.max(prediction, 2)\n",
    "output = [TEXT.vocab.itos[i] for i in preds]\n",
    "total_data = torch.cat((input_data,preds),dim=0)\n",
    "\n",
    "for x in range(14):\n",
    "    total_data = total_data.to('cpu')\n",
    "    total_data_sampled = np.array(total_data[-4:])\n",
    "    next_input = np.random.choice(total_data_sampled.reshape(total_data_sampled.shape[0]),3)\n",
    "    next_input_text = [TEXT.vocab.itos[i] for i in next_input]\n",
    "    next_input_text = ''.join(next_input_text)\n",
    "    prediction,input_data = predict_vocab(next_input_text)\n",
    "    x,preds = torch.max(prediction, 2)\n",
    "    total_data = total_data.to('cuda')\n",
    "    total_data = torch.cat((total_data,preds),dim=0)\n",
    "sampled_output = [TEXT.vocab.itos[i] for i in total_data]\n",
    "' '.join(sampled_output)"
   ]
  }
 ],
 "metadata": {
  "accelerator": "GPU",
  "colab": {
   "collapsed_sections": [],
   "name": "IDS 576 Assignment_3 .ipynb",
   "provenance": []
  },
  "kernelspec": {
   "display_name": "Python 3",
   "language": "python",
   "name": "python3"
  },
  "language_info": {
   "codemirror_mode": {
    "name": "ipython",
    "version": 3
   },
   "file_extension": ".py",
   "mimetype": "text/x-python",
   "name": "python",
   "nbconvert_exporter": "python",
   "pygments_lexer": "ipython3",
   "version": "3.8.3"
  }
 },
 "nbformat": 4,
 "nbformat_minor": 1
}
